{
 "cells": [
  {
   "cell_type": "code",
   "execution_count": null,
   "metadata": {},
   "outputs": [],
   "source": [
    "\n",
    "import cv2\n",
    "import os\n",
    "\n",
    "#Reading the video file\n",
    "cap=cv2.VideoCapture('video1.mp4')\n",
    "\n",
    "#cascadeClassifier xml  -- haarcascade_car.xml renamed to cars\n",
    "car_cascade = cv2.CascadeClassifier('haarcascade_car.xml')\n",
    "\n",
    "\n",
    "while True:\n",
    "    # reads frames from a video\n",
    "    ret, frames = cap.read()\n",
    "    # convert to gray scale of each frames\n",
    "    gray = cv2.cvtColor(frames, cv2.COLOR_BGR2GRAY)\n",
    "    # Detects cars of different sizes in the input image\n",
    "    #setting min size to 30 so tht it wont pick very small or irrevelnt images\n",
    "    # post multiple experiments keeping scale to 1.2\n",
    "    cars = car_cascade.detectMultiScale( gray, 1.2, 1,minSize=(30, 30))\n",
    "    # To draw a rectangle in each cars\n",
    "    for (x,y,w,h) in cars:\n",
    "        cv2.rectangle(frames,(x,y),(x+w,y+h),(0,0,255),2)\n",
    "        #Putting text over bounding boxes\n",
    "        font = cv2.FONT_HERSHEY_DUPLEX\n",
    "        cv2.putText(frames, 'Car', (x + 6, y - 6), font, 0.5, (0, 0, 255), 1)\n",
    "        # Display frames in a window\n",
    "        cv2.imshow('Car Detection', frames)\n",
    "        # Wait for Enter key to stop\n",
    "    if cv2.waitKey(33) == 13:\n",
    "        cap.release()\n",
    "        cv2.destroyAllWindows()\n",
    "        break\n",
    "    "
   ]
  },
  {
   "cell_type": "markdown",
   "metadata": {},
   "source": [
    "- Casscade Classifer:\n",
    "    - \"Object Detection using Haar feature-based cascade classifiers is an effective object detection method proposed by Paul Viola and Michael Jones in their paper, \"Rapid Object Detection using a Boosted Cascade of Simple Features\" in 2001. It is a machine learning based approach where a cascade function is trained from a lot of positive and negative images. It is then used to detect objects in other images.\"\n",
    "    \n",
    "    - opencv Video capture feature will take the video and send it frame by frame.\n",
    "    - will use pretrained Haar cascade models to detect cars in an image\n",
    "    - identify and manke rectangles on the frame and strream it back with cv2"
   ]
  },
  {
   "cell_type": "code",
   "execution_count": null,
   "metadata": {},
   "outputs": [],
   "source": []
  },
  {
   "cell_type": "markdown",
   "metadata": {},
   "source": [
    " - References\n",
    "     - https://docs.opencv.org/3.4/df/d2c/tutorial_table_of_content_videoio.html\n",
    "     - https://docs.opencv.org/3.4/db/d28/tutorial_cascade_classifier.html\n",
    "     - https://www.sciencedirect.com/topics/computer-science/classifier-cascade\n",
    "     "
   ]
  },
  {
   "cell_type": "code",
   "execution_count": null,
   "metadata": {},
   "outputs": [],
   "source": []
  }
 ],
 "metadata": {
  "kernelspec": {
   "display_name": "Python 3",
   "language": "python",
   "name": "python3"
  },
  "language_info": {
   "codemirror_mode": {
    "name": "ipython",
    "version": 3
   },
   "file_extension": ".py",
   "mimetype": "text/x-python",
   "name": "python",
   "nbconvert_exporter": "python",
   "pygments_lexer": "ipython3",
   "version": "3.7.7"
  }
 },
 "nbformat": 4,
 "nbformat_minor": 4
}
